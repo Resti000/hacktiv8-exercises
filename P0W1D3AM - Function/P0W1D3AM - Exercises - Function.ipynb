{
  "cells": [
    {
      "cell_type": "markdown",
      "metadata": {
        "id": "L3KnF6F_IOwh"
      },
      "source": [
        "# LATIHAN - P0W1D3AM : FUNCTION"
      ]
    },
    {
      "cell_type": "markdown",
      "metadata": {
        "id": "KD9SBZu6IWat"
      },
      "source": [
        "## Required/Keyword Argument"
      ]
    },
    {
      "cell_type": "markdown",
      "metadata": {
        "id": "SABgqKWrp27J"
      },
      "source": [
        "**NOMOR 1**\n",
        "\n",
        "Buatlah sebuah function untuk menampilkan tanda plus (`+`) sebanyak \n",
        "`n`.\n",
        "  * Input : `n` | int\n",
        "  * Output : Jumlah tanda plus yang dimunculkan dalam satu baris\n",
        "\n",
        "| Input | Output |\n",
        "| - | - |\n",
        "| n = 1 | + |\n",
        "| n = 3 | + <br /> + <br /> + |\n",
        "| n = 5 | + <br /> + <br /> + <br /> + <br /> + |\n",
        "| n = -1 | *--error--* |\n",
        "\n"
      ]
    },
    {
      "cell_type": "markdown",
      "metadata": {
        "id": "ci9Cw5h8I7_a"
      },
      "source": [
        "**NOMOR 2**\n",
        "\n",
        "Buat sebuah function untuk mereturn hanya angka genap (positif/negatif) dari sekumpulan list yang berisi nilai-nilai (tidak termasuk 0).\n",
        "  * Input : `daftar_angka` : daftar angka-angka | list of int\n",
        "  * Output : daftar angka-angka genap | list of int\n",
        "\n",
        "| No | Input | Output |\n",
        "| - | - | - |\n",
        "| 1 | daftar_angka = [1, 2, 3, 4, 5, 6] | [2, 4, 6] |\n",
        "| 2 | daftar_angka = [0, 1, 3, 5, 7, 9] | [] |\n",
        "| 3 | daftar_angka = [-10, -9, -8, -7]  | [-10, -8] |\n"
      ]
    },
    {
      "cell_type": "markdown",
      "metadata": {
        "id": "jz00PX1Sp6_S"
      },
      "source": [
        "## Default Argument"
      ]
    },
    {
      "cell_type": "markdown",
      "metadata": {
        "id": "3wEoWefTIg9a"
      },
      "source": [
        "**NOMOR 3**\n",
        "\n",
        "Buatlah sebuah function untuk menampilkan `nama` dan `negara`. Jika tidak ada value pada parameter `negara`, isi dengan `Indonesia`.\n",
        "  * Input : `nama` | str\n",
        "  * Input : `negara` | str\n",
        "\n",
        "| No | Input | Output |\n",
        "| - | - | - |\n",
        "| 1 | nama = Frank <br /> <br /> negara = USA| \"Halo Frank dari USA\" |\n",
        "| 2 | nama = Smith <br /> <br /> negara = Jerman| \"Halo Smith dari Jerman\" |\n",
        "| 3 | nama = Anton | \"Halo Anton dari Indonesia\" |\n",
        "| 4 | negara = Singapura | *--error--* |"
      ]
    },
    {
      "cell_type": "markdown",
      "metadata": {
        "id": "318TQDqvcHKR"
      },
      "source": [
        "**NOMOR 4**\n",
        "\n",
        "Buatlah sebuah function untuk me-return luas dari dua angka yang dimasukkan berdasarkan jenis bidangnya. \n",
        "  * Jika hanya 1 angka yang dimasukkan, maka diasumsikan angka tersebut akan digunakan untuk panjang-dan-lebar atau alas-dan-tinggi.\n",
        "  * Input : `mode` : jenis bidang (segitiga/persegi) | str\n",
        "    - `mode = segitiga`\n",
        "    - `mode = persegi`\n",
        "  * Input : `bilangan_1` : bilangan ke-1 | int\n",
        "  * Input : `bilangan_2` : bilangan ke-2 | int\n",
        "  * Jika tidak ada bilangan yang dimasukkan, maka tampilkan pesan **\"Input harus ada angka\"**.\n",
        "  * Angka yang dimasukkan maksimal 2 angka.\n",
        "\n",
        "> *Rumus luas persegi = bilangan_1 (panjang) * bilangan_2 (lebar)*\n",
        "> \n",
        "> *Rumus luas segitiga = bilangan_1 (alas) * bilangan_2 (tinggi) / 2*\n",
        "\n",
        "| No | Input | Output |\n",
        "| - | - | - |\n",
        "| 1 | mode = persegi, 10, 20 | 200 |\n",
        "| 2 | mode = segitiga, 10, 20| 100 |\n",
        "| 3 | mode = persegi | \"Input kurang angka\" |\n",
        "| 4 | mode = persegi, 8 | 64 |\n",
        "| 5 | mode = segitiga, 2, 4, 6 | *-error-* |\n",
        "| 6 | 10, 20 | *-error-* |"
      ]
    },
    {
      "cell_type": "markdown",
      "metadata": {
        "id": "382AEd81qiuI"
      },
      "source": [
        "## Variable-Length Argument"
      ]
    },
    {
      "cell_type": "markdown",
      "metadata": {
        "id": "gy1BSwZQlhyd"
      },
      "source": [
        "**NOMOR 5**\n",
        "\n",
        "Buatlah sebuah function untuk : \n",
        "  * Mereturn angka disuatu posisi berdasarkan bilangan pertama dari sebuah daftar angka-angka. \n",
        "  * Urutan posisi dimulai dari bilangan kedua.\n",
        "  * Jika bilangan pertama melebihi jumlah banyaknya daftar angka-angka, maka return **-1**. \n",
        "  * Input : daftar angka \n",
        "\n",
        "| No | Input | Output |\n",
        "| - | - | - |\n",
        "| 1 | (3, 10, 20, 30, 40) | 40 |\n",
        "| 2 | (0, -10, 10)| -10 |\n",
        "| 3 | (1, 2, 300, 10) | 300 |\n",
        "| 4 | (100, 200, 300, -400) | -1 |\n",
        "| 5 | (4, 200, 300, -400) | -1 |"
      ]
    },
    {
      "cell_type": "markdown",
      "metadata": {
        "id": "v7T-3NfFVM6E"
      },
      "source": [
        "**NOMOR 6**\n",
        "\n",
        "Buatlah sebuah function untuk mereturn hasil pengecekan dari sekumpulan angka yang dimasukkan, apakah bilangan pertama merupakan penjumlahan dari bilangan kedua, ketiga, dst (asumsikan bilangan yang dimasukkan tidak terbatas).\n",
        "  * Input : `bil_1` : bilangan ke-1 | int\n",
        "  * Input : `bil_2` : bilangan ke-2 | int\n",
        "  * Input : `bil_3` : bilangan ke-3 | int\n",
        "  * Input : `bil_4` : bilangan ke-4 | int\n",
        "  * dst\n",
        "\n",
        "| No | Input | Output |\n",
        "| - | - | - |\n",
        "| 1 | bil_1 = 10, <br/><br/> bil_2 = 20, <br/><br/> bil_3 = 50, <br/><br/> bil_4 = 600 | False |\n",
        "| 2 | bil_1 = 0, <br/><br/> bil_2 = 10, <br/><br/> bil_3 = -10 | True |\n",
        "| 3 | bil_1 = 20, <br/><br/> bil_2 = 20 | True |\n",
        "| 4 | bil_1 = 20 | False |\n",
        "| 5 | bil_1 = 10, <br/><br/> bil_2 = 200, <br/><br/> bil_3 = 300, <br/><br/> bil_4 = 400 <br/> <br/> bil_5 = 500 | False |"
      ]
    },
    {
      "cell_type": "markdown",
      "metadata": {
        "id": "SEB_VdwJquxl"
      },
      "source": [
        "## Free Practice"
      ]
    },
    {
      "cell_type": "markdown",
      "metadata": {
        "id": "m6GJVgJLIKkA"
      },
      "source": [
        "**NOMOR 7**\n",
        "\n",
        "Buatlah sebuah function untuk menampilkan tanda plus (`+`) berbentuk segitiga dibawah ini.\n",
        "  * Input : `n` | int\n",
        "  * Output : Jumlah tanda plus yang dimunculkan.\n",
        "\n",
        "| Input | Output |\n",
        "| - | - |\n",
        "| n = 1 | + |\n",
        "| n = 2 | ++ <br /> +|\n",
        "| n = 3 | +++ <br /> ++ <br /> +|\n",
        "| n = 4 | ++++ <br /> +++ <br /> ++ <br /> +|\n",
        "| n = 5 | +++++ <br /> ++++ <br /> +++ <br /> ++ <br /> +|\n",
        "| n = -1 | *--error--* |\n",
        "\n"
      ]
    },
    {
      "cell_type": "markdown",
      "metadata": {
        "id": "IlLSwYyvrf1D"
      },
      "source": [
        "**NOMOR 8**\n",
        "\n",
        "Buatlah sebuah function untuk mengambil huruf vokal dari sebuah teks dan masukkan ke dalam sebuah list. Return list yang terdiri dari huruf vokal tersebut.\n",
        "  * Input : `teks` | str\n",
        "\n",
        "| No | Input | Output |\n",
        "| - | - | - |\n",
        "| 1 | teks = 'selamat pagi' | ['e', 'a', 'a', 'a', 'i'] |\n",
        "| 2 | teks = '1002'| [] |\n",
        "| 3 | teks = 'myth' | [] |"
      ]
    },
    {
      "cell_type": "markdown",
      "metadata": {
        "id": "TwH2khkhxONF"
      },
      "source": [
        "**NOMOR 9**\n",
        "\n",
        "Buatlah sebuah function untuk mengambil huruf selain huruf vokal (huruf konsonan) dari sebuah teks dan masukkan ke dalam sebuah list. Return list yang terdiri dari huruf konsonan tersebut.\n",
        "  * Input : `teks` | str\n",
        "  * Jika karakter tersebut merupakan angka, maka jangan diambil.\n",
        "\n",
        "| No | Input | Output |\n",
        "| - | - | - |\n",
        "| 1 | teks = 'selamat pagi' | ['s', 'l', 'm', 't', 'p', 'g] |\n",
        "| 2 | teks = '1002'| [] |\n",
        "| 3 | teks = 'myth' | ['m', 'y', 't', 'h'] |\n",
        "\n"
      ]
    },
    {
      "cell_type": "markdown",
      "metadata": {
        "id": "1ZrIX3RTzgCH"
      },
      "source": [
        "**NOMOR 10**\n",
        "\n",
        "Buatlah sebuah function untuk menampilkan nama siswa yang memiliki nilai paling besar\n",
        "  * Input : Beberapa nama_siswa beserta nilai_siswa\n",
        "\n",
        "\n",
        "| No | Input | Output |\n",
        "| - | - | - |\n",
        "| 1 | (anwar=90, budi=40, charlie=100) | 'charlie' |\n",
        "| 2 | (tom=30, rian=90, jim=60, lily=70, abby=40)| 'rian' |\n",
        "| 3 | (frank=100) | 'frank' |"
      ]
    }
  ],
  "metadata": {
    "colab": {
      "collapsed_sections": [],
      "name": "P0W1D3AM - Exercises - Function.ipynb",
      "provenance": []
    },
    "kernelspec": {
      "display_name": "Python 3",
      "name": "python3"
    },
    "language_info": {
      "name": "python"
    }
  },
  "nbformat": 4,
  "nbformat_minor": 0
}
